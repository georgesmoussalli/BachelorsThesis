{
 "cells": [
  {
   "cell_type": "code",
   "execution_count": 118,
   "metadata": {},
   "outputs": [
    {
     "data": {
      "text/plain": [
       "array([[[255, 255, 255],\n",
       "        [255, 255, 255],\n",
       "        [255, 255, 255],\n",
       "        ...,\n",
       "        [255, 255, 255],\n",
       "        [255, 255, 255],\n",
       "        [255, 255, 255]],\n",
       "\n",
       "       [[255, 255, 255],\n",
       "        [255, 255, 255],\n",
       "        [255, 255, 255],\n",
       "        ...,\n",
       "        [255, 255, 255],\n",
       "        [255, 255, 255],\n",
       "        [255, 255, 255]],\n",
       "\n",
       "       [[255, 255, 255],\n",
       "        [255, 255, 255],\n",
       "        [255, 255, 255],\n",
       "        ...,\n",
       "        [255, 255, 255],\n",
       "        [255, 255, 255],\n",
       "        [255, 255, 255]],\n",
       "\n",
       "       ...,\n",
       "\n",
       "       [[255, 255, 255],\n",
       "        [255, 255, 255],\n",
       "        [255, 255, 255],\n",
       "        ...,\n",
       "        [255, 255, 255],\n",
       "        [255, 255, 255],\n",
       "        [255, 255, 255]],\n",
       "\n",
       "       [[255, 255, 255],\n",
       "        [255, 255, 255],\n",
       "        [255, 255, 255],\n",
       "        ...,\n",
       "        [255, 255, 255],\n",
       "        [255, 255, 255],\n",
       "        [255, 255, 255]],\n",
       "\n",
       "       [[255, 255, 255],\n",
       "        [255, 255, 255],\n",
       "        [255, 255, 255],\n",
       "        ...,\n",
       "        [255, 255, 255],\n",
       "        [255, 255, 255],\n",
       "        [255, 255, 255]]], dtype=uint8)"
      ]
     },
     "execution_count": 118,
     "metadata": {},
     "output_type": "execute_result"
    }
   ],
   "source": [
    "import cv2\n",
    "import pytesseract\n",
    "import pandas as pd\n",
    "import re\n",
    "import matplotlib.pyplot as plt\n",
    "from PIL import Image\n",
    "import os \n",
    "\n",
    "# Charger l'image\n",
    "image_path = \"../data/page_1.png\"\n",
    "image = cv2.imread(image_path)\n",
    "\n",
    "image"
   ]
  },
  {
   "cell_type": "code",
   "execution_count": 119,
   "metadata": {},
   "outputs": [],
   "source": [
    "def extract_informations(text):\n",
    "    \n",
    "    \"\"\"\n",
    "    Fonction pour extraire les noms, prénoms et sujets d'un texte brut.\n",
    "    \"\"\"\n",
    "\n",
    "    # Séparer le texte en lignes\n",
    "    lines = text.split(\"\\n\")\n",
    "\n",
    "    # Expression régulière pour détecter un nom avec le motif (NOM)\n",
    "    pattern = re.compile(r\"([A-ZÉÀÈÙÂÊÎÔÛÄËÏÖÜÇ]{2,}) \\(([^)]+)\\)\\. (.+)\")\n",
    "\n",
    "    # Stocker les résultats\n",
    "    data = []\n",
    "\n",
    "    for line in lines:\n",
    "        \n",
    "        \n",
    "\n",
    "        match = pattern.search(line)\n",
    "        if match:\n",
    "            nom = match.group(1)\n",
    "            prenom = match.group(2)\n",
    "            sujet = match.group(3)\n",
    "            data.append([nom, prenom, sujet])\n",
    "\n",
    "    # Création du DataFrame\n",
    "    df = pd.DataFrame(data, columns=[\"Nom\", \"Prénom\", \"Sujet\"])\n",
    "\n",
    "    return df"
   ]
  },
  {
   "cell_type": "code",
   "execution_count": 120,
   "metadata": {},
   "outputs": [],
   "source": [
    "def process_image(image) : \n",
    "    # Convertir en niveaux de gris\n",
    "    gray = cv2.cvtColor(image, cv2.COLOR_BGR2GRAY)\n",
    "    clahe = cv2.createCLAHE(clipLimit=2.0, tileGridSize=(8,8))\n",
    "    gray = clahe.apply(gray)\n",
    "\n",
    "    # Récupérer les dimensions\n",
    "    (h, w) = gray.shape\n",
    "\n",
    "    # Scinder en deux parties\n",
    "    left_part = gray[:, :w//2 - 5]   # Partie gauche\n",
    "    right_part = gray[:,  5 + w//2:]  # Partie droite\n",
    "\n",
    "    left_text = pytesseract.image_to_string(left_part, lang = 'fra')\n",
    "    right_text = pytesseract.image_to_string(right_part, lang = 'fra')\n",
    "\n",
    "    df_left = extract_informations(left_text)\n",
    "    df_right = extract_informations(right_text)\n",
    "\n",
    "    df_final = pd.concat([df_left, df_right], ignore_index=True)  # ignore_index évite la duplication des index\n",
    "\n",
    "    return df_final\n"
   ]
  },
  {
   "cell_type": "code",
   "execution_count": 123,
   "metadata": {},
   "outputs": [
    {
     "data": {
      "text/plain": [
       "'/Users/georges/Desktop/EPFL/PDB/lib/code/../data/pdfs_en_images_png/1870'"
      ]
     },
     "execution_count": 123,
     "metadata": {},
     "output_type": "execute_result"
    }
   ],
   "source": [
    "def process_folder(input_dir):\n",
    "    # Generate a timestamped folder \n",
    "    df = pd.DataFrame()\n",
    "    \n",
    "    for year_folder in sorted(os.listdir(input_dir)):\n",
    "        year_path = os.path.join(input_dir, year_folder)\n",
    "\n",
    "        if os.path.isdir(year_path):  # Check if it's a directory\n",
    "\n",
    "            for image_file in (os.listdir(year_path)):\n",
    "                image_path = os.path.join(year_path, image_file)\n",
    "\n",
    "                if image_file.lower().endswith(('.png', '.jpg', '.jpeg')):  # Check for image formats\n",
    "                    print(f\"Processing {image_path}...\")\n",
    "                    df = pd.concat(df, process_image(image), ignore_index= True)\n",
    "\n",
    "    return df\n",
    "\n",
    "current_dir = os.getcwd()\n",
    "\n",
    "input_dir = os.path.join(current_dir, '..', 'data', 'pdfs_en_images_png', '1870')  # Relative path to 'lib/data/pdfs_en_images_png'\n",
    "output_dir = os.path.join(current_dir, '..', 'data', 'texte_extrait_par_pdfs')  # Output path within 'texte_extrait_par_pdfs'\n",
    "\n",
    "\n",
    "\n",
    "# print(process_folder(input_dir))\n",
    "\n",
    "input_dir\n"
   ]
  }
 ],
 "metadata": {
  "kernelspec": {
   "display_name": "Python 3",
   "language": "python",
   "name": "python3"
  },
  "language_info": {
   "codemirror_mode": {
    "name": "ipython",
    "version": 3
   },
   "file_extension": ".py",
   "mimetype": "text/x-python",
   "name": "python",
   "nbconvert_exporter": "python",
   "pygments_lexer": "ipython3",
   "version": "3.11.11"
  }
 },
 "nbformat": 4,
 "nbformat_minor": 2
}
