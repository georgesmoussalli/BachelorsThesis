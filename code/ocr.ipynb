{
 "cells": [
  {
   "cell_type": "code",
   "execution_count": 30,
   "metadata": {},
   "outputs": [],
   "source": [
    "import os \n",
    "import numpy as np \n",
    "import cv2\n",
    "from pdf2image import convert_from_path\n",
    "from IPython.display import display\n",
    "from PIL import Image\n",
    "import pytesseract\n",
    "import unicodedata\n",
    "import re\n",
    "import csv\n",
    "\n",
    "pytesseract.pytesseract.tesseract_cmd = \"/usr/local/bin/tesseract\"\n"
   ]
  },
  {
   "cell_type": "code",
   "execution_count": null,
   "metadata": {},
   "outputs": [],
   "source": [
    "# Extracts the year from the filename after 'Thèses_'.\n",
    "def extract_year_from_filename(filename):\n",
    "    match = re.search(r'Theses_(.*?)(\\.pdf)?$', filename)  # Capture everything after \"Thèses_\" and remove .pdf\n",
    "    if match:\n",
    "        extracted = match.group(1)  # Extract the part after \"Thèses_\"\n",
    "        return extracted\n",
    "    return \"Erreur\"\n",
    "\n",
    "# Converts a PDF file into images, saving each page as a PNG.\n",
    "# # Images are stored in the specified output folder.\n",
    "def convert_pdf_to_images(pdf_path, output_folder):\n",
    "    images = convert_from_path(pdf_path)\n",
    "    \n",
    "    for i, image in enumerate(images):\n",
    "        image_path = os.path.join(output_folder, f\"page_{i+1}.png\")\n",
    "        image.save(image_path, \"PNG\")\n",
    "        print(f\"Page {i+1} saved: {image_path}\")\n",
    "\n",
    "# Processes all PDFs in the input directory.\n",
    "# Extracts the year from the filename and creates a subfolder for each year.\n",
    "# Converts each PDF into images and stores them in the corresponding subfolder.\n",
    "def process_all_pdfs(input_dir, output_dir):\n",
    "    os.makedirs(output_dir, exist_ok=True)  # Ensure the parent directory exists\n",
    "    \n",
    "    for filename in os.listdir(input_dir):\n",
    "        if filename.endswith(\".pdf\"):\n",
    "            pdf_path = os.path.join(input_dir, filename)  # Full path to PDF\n",
    "            year = extract_year_from_filename(filename)\n",
    "            print(f\"Extracted year: {year}\")  # Debugging\n",
    "            if not year or year == \"Erreur\":  # Skip if invalid year extracted\n",
    "                print(f\" Invalid year extracted: {year} for {filename}\")\n",
    "                continue\n",
    "\n",
    "            output_folder = os.path.join(output_dir, year)\n",
    "            print(f\"Creating subfolder: {output_folder}\")  # Debugging\n",
    "            os.makedirs(output_folder, exist_ok=True)  # Ensure the subfolder is created\n",
    "            \n",
    "            convert_pdf_to_images(pdf_path, output_folder)\n",
    "\n"
   ]
  },
  {
   "cell_type": "code",
   "execution_count": null,
   "metadata": {},
   "outputs": [],
   "source": [
    "current_dir = os.getcwd()\n",
    "\n",
    "# Define the input and output paths relative to the current directory\n",
    "input_dir = os.path.join(current_dir, '..', 'data', 'pdf_Tables_theses_Paris_1870_1939')  # Relative path to 'lib/data/pdf_Tables_thèses_Paris_1870_1939'\n",
    "output_dir = os.path.join(current_dir, '..', 'data', 'pdfs_en_images_png')  # Output path within 'lib/data/pdfs_en_images_png'\n",
    "print(f\"Output directory: {output_dir}\")  # Debugging line to check the output path\n",
    "\n",
    "process_all_pdfs(input_dir, output_dir)"
   ]
  },
  {
   "cell_type": "code",
   "execution_count": null,
   "metadata": {},
   "outputs": [],
   "source": [
    "# Extracts text from an image\n",
    "def extract_text_from_image(image_path):\n",
    "    image = cv2.imread(image_path)\n",
    "    return pytesseract.image_to_string(image)\n",
    "\n",
    "# Remonving the accents\n",
    "def remove_accents(text):\n",
    "    return ''.join(c for c in unicodedata.normalize('NFD', text) if unicodedata.category(c) != 'Mn')\n",
    "\n",
    "# Post processing\n",
    "def post_process_text(extracted_text):\n",
    "    extracted_text = remove_accents(extracted_text)  # Suppression des accents\n",
    "    extracted_text = re.sub(r'\\n+', '\\n', extracted_text)  \n",
    "    extracted_text = re.sub(r'[\\x00-\\x1F\\x7F]', '', extracted_text)  \n",
    "\n",
    "    return extracted_text.strip()"
   ]
  },
  {
   "cell_type": "code",
   "execution_count": null,
   "metadata": {},
   "outputs": [],
   "source": []
  },
  {
   "cell_type": "code",
   "execution_count": null,
   "metadata": {},
   "outputs": [],
   "source": [
    "# List of possible titles/statuses\n",
    "POSSIBLE_TITLES = [\"Mlle\", \"Mme\", \"M\"]\n",
    "\n",
    "#Extracts name and thesis from brut text\n",
    "def extract_name_and_thesis(text):\n",
    "    structured_data = []\n",
    "    \n",
    "    # Regex to detect last names in uppercase, followed by an optional first name in parentheses and an optional title\n",
    "    pattern = re.compile(r\"([A-ZÉÈÀÛÎÔ\\-]+)(?: \\(([A-Za-zÉÈÀÛÎÔéèàùâêîôûäëïöüç\\-]+)\\))?(?:\\s+([A-Za-z\\.\\-]+))?\\.\\s*(.*?)\\.\\s*\\d+\", re.DOTALL)\n",
    "\n",
    "    matches = pattern.findall(text)\n",
    "    \n",
    "    for match in matches:\n",
    "        last_name = match[0].strip()\n",
    "        first_name = match[1].strip() if match[1] else \"\"  # Optional first name\n",
    "        potential_title = match[2].strip() if match[2] else \"\"\n",
    "\n",
    "        # Check if the word after the first name is a valid title\n",
    "        title = potential_title if potential_title in POSSIBLE_TITLES else \"\"\n",
    "\n",
    "        thesis_title = match[3].strip()  # Thesis title\n",
    "\n",
    "        structured_data.append([last_name, first_name, title, thesis_title])\n",
    "\n",
    "    return structured_data\n",
    "\n",
    "# Function to save extracted data to a CSV file\n",
    "def save_to_csv(data, output_path):\n",
    "    with open(output_path, mode=\"w\", encoding=\"utf-8\", newline=\"\") as file:\n",
    "        writer = csv.writer(file)\n",
    "        writer.writerow([\"Last Name\", \"First Name\", \"Title\", \"Thesis Title\"])\n",
    "        writer.writerows(data)"
   ]
  },
  {
   "cell_type": "code",
   "execution_count": null,
   "metadata": {},
   "outputs": [],
   "source": [
    "save_to_csv(extract_name_and_thesis(text), output_path)"
   ]
  },
  {
   "cell_type": "code",
   "execution_count": null,
   "metadata": {},
   "outputs": [],
   "source": []
  }
 ],
 "metadata": {
  "kernelspec": {
   "display_name": "myenv",
   "language": "python",
   "name": "python3"
  },
  "language_info": {
   "codemirror_mode": {
    "name": "ipython",
    "version": 3
   },
   "file_extension": ".py",
   "mimetype": "text/x-python",
   "name": "python",
   "nbconvert_exporter": "python",
   "pygments_lexer": "ipython3",
   "version": "3.13.2"
  }
 },
 "nbformat": 4,
 "nbformat_minor": 2
}
